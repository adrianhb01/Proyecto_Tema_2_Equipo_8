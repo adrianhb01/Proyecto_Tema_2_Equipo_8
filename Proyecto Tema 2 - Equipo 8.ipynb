{
 "cells": [
  {
   "cell_type": "markdown",
   "metadata": {},
   "source": [
    "<img style=\"float: left; margin: 30px 15px 15px 15px;\" src=\"https://pngimage.net/wp-content/uploads/2018/06/logo-iteso-png-5.png\" width=\"300\" height=\"500\" /> \n",
    "        \n",
    "### <font color='navy'> Simulación de procesos financieros. \n",
    "\n",
    "**Nombres:** Gustavo Adrián Herrera Barragán, Luis Jorge Ahumada Cerda & Santiago Cataño Besson\n",
    "\n",
    "**Fecha:** 30 de marzo del 2023.\n",
    "\n",
    "**Expedientes** : 734546, XXXXXX & XXXXXX\n",
    "    \n",
    "**Profesor:** Oscar David Jaramillo Zuluaga.\n",
    "    \n",
    "**Link Github**: https://github.com/adrianhb01/Proyecto_Tema_2_Equipo_8.git\n",
    "\n",
    "# Proyecto TEMA-2"
   ]
  },
  {
   "cell_type": "markdown",
   "metadata": {},
   "source": [
    "<img style=\"float: right; margin: 0px 0px 15px 15px;\" src=\"https://upload.wikimedia.org/wikipedia/commons/b/b6/Proyecto_en_construccion.jpg\" width=\"300px\" height=\"100px\" />\n",
    "\n",
    "\n",
    "# Proyecto Módulo 2- Guía.\n",
    "> Se especifican los componentes básicos que deberá tener cada proyecto. El proyecto debe ser un problema que utilice datos reales, ya sea de una empresa física real o de alguna página de internet que proporcione bases de datos confiables. Con la información obtenida, se pretende utilizar todas las herramientas vistas durante el curso para la correcta modelación y simulación del cierto problema con ciertas variables de interés."
   ]
  },
  {
   "cell_type": "markdown",
   "metadata": {},
   "source": [
    "### Diagrama:"
   ]
  },
  {
   "cell_type": "code",
   "execution_count": 1,
   "metadata": {},
   "outputs": [
    {
     "ename": "NameError",
     "evalue": "name 'Image' is not defined",
     "output_type": "error",
     "traceback": [
      "\u001b[0;31m---------------------------------------------------------------------------\u001b[0m",
      "\u001b[0;31mNameError\u001b[0m                                 Traceback (most recent call last)",
      "\u001b[0;32m<ipython-input-1-a2ba49bfd964>\u001b[0m in \u001b[0;36m<module>\u001b[0;34m\u001b[0m\n\u001b[0;32m----> 1\u001b[0;31m \u001b[0mImage\u001b[0m\u001b[0;34m(\u001b[0m\u001b[0mfilename\u001b[0m \u001b[0;34m=\u001b[0m \u001b[0;34m\"Diagrama.jpeg\"\u001b[0m\u001b[0;34m)\u001b[0m\u001b[0;34m\u001b[0m\u001b[0;34m\u001b[0m\u001b[0m\n\u001b[0m",
      "\u001b[0;31mNameError\u001b[0m: name 'Image' is not defined"
     ]
    }
   ],
   "source": [
    "Image(filename = \"Diagrama.jpeg\")"
   ]
  },
  {
   "cell_type": "markdown",
   "metadata": {},
   "source": [
    "___\n",
    "## 1. Entregable.\n",
    "Los trabajos deben tener los siguientes componentes básicos.\n",
    "\n",
    "\n",
    "### 1.1 \"Predicción de marcadores en partidos de fútbol\".\n",
    "\n",
    "\n",
    "### 1.2 Objetivos.\n",
    "> #### 1.1 Objetivo general.\n",
    ">  - El objetivo general de este proyecto es desarrollar un modelo capaz de predecir el resultado de un partido de fútbol, basado en datos históricos y actuales del equipo.\n",
    "> #### 1.2 Objetivos específicos\n",
    ">  - Recopilar y limpiar los datos necesarios para el modelo.\n",
    ">  - Realizar un análisis exploratorio de los datos para identificar patrones y tendencias.\n",
    ">  - Identificar las variables más importantes para predecir el resultado de un partido.\n",
    ">  - Evaluar el rendimiento del modelo utilizando diferentes métricas de evaluación.\n",
    ">  - Implementar el modelo en una aplicación web para permitir a los usuarios predecir el resultado de los partidos.\n",
    "\n",
    "### 1.3 Definición del problema.\n",
    "> \n",
    "El escenario de negocio que se va a modelar es el de un sitio web de apuestas deportivas en línea, el cual ofrece a los usuarios la posibilidad de realizar apuestas en partidos de fútbol. El objetivo de este proyecto es desarrollar un modelo de aprendizaje automático que permita predecir el resultado de los partidos y, de esta manera, mejorar la precisión de las apuestas.\n",
    "\n",
    "\n",
    "\n",
    "### 1.4 Nodos y variables que se decidieron simular y porqué\n",
    "\n",
    "> Nodos o escenarios a simular:\n",
    "\n",
    "* 1. Datos históricos y actuales de los equipos, incluyendo su rendimiento, resultados anteriores y estadísticas de jugadores.\n",
    "* 2. Factores relevantes como la posición en la tabla de posiciones, el rendimiento en casa o fuera de casa, y las lesiones de jugadores clave.\n",
    "* 3. Modelo de aprendizaje automático para predecir el resultado del partido.\n",
    "* 4. Evaluación del modelo y ajuste de parámetros.\n",
    "\n",
    "### 1.5 Definición de hipótesis y supuestos.\n",
    ">  Hipótesis:\n",
    "\n",
    "* El rendimiento de un equipo en los partidos anteriores es un buen predictor de su rendimiento en el partido actual.\n",
    "\n",
    "* Los factores externos, como las condiciones climáticas, tienen un impacto limitado en el resultado del partido.\n",
    "\n",
    "* La posición en la tabla de posiciones de un equipo es un buen indicador de su capacidad para ganar el partido.\n",
    "\n",
    "> supuestos:\n",
    "* Los datos históricos y actuales del equipo son precisos y fiables.\n",
    "* Los equipos mantienen una consistencia en su desempeño durante la temporada.\n",
    "* Los jugadores clave de los equipos están disponibles para jugar en el partido.\n",
    "\n",
    "\n",
    "\n",
    "### 1.6 Obtención de bases de datos\n",
    "> Los datos los obtenimos de la página Kaggle.\n"
   ]
  },
  {
   "cell_type": "markdown",
   "metadata": {},
   "source": [
    "#### Preguntas \n",
    "¿Cuáles son los datos que mas nos pueden funcionar a acercarnos a acertar?\n",
    "¿Tenemos que ser todavia mas especificos o se puede generalizar hacia el partido que sea?\n",
    "¿Cúales pasos son primero y cuales van despues, como ajusto los de la clase aqui, para lograr una modelacion correcta \n",
    "¿Los modelos vistos funcionan solo para 1 variable o como es que se adaptan a un conjunto?"
   ]
  },
  {
   "cell_type": "code",
   "execution_count": null,
   "metadata": {},
   "outputs": [],
   "source": [
    "# librerias \n",
    "import numpy as np\n",
    "import scipy.stats as st     # Librería estadística\n",
    "import statsmodels.api as sm \n",
    "import matplotlib.pyplot as plt\n",
    "import pandas as pd\n",
    "# Ignorar warnings\n",
    "import warnings\n",
    "warnings.filterwarnings(\"ignore\")\n",
    "from functools import reduce\n",
    "import time\n",
    "from scipy import optimize\n",
    "import seaborn as sns"
   ]
  },
  {
   "cell_type": "code",
   "execution_count": null,
   "metadata": {},
   "outputs": [],
   "source": [
    "#importacion de datos\n",
    "df1 = pd.read_csv('European Football Season 2022:23/table_premier-league_2022-23.csv')\n",
    "df1"
   ]
  },
  {
   "cell_type": "code",
   "execution_count": null,
   "metadata": {},
   "outputs": [],
   "source": [
    "import numpy as np\n",
    "from sklearn.neighbors import KernelDensity\n",
    "from scipy.stats import gaussian_kde\n",
    "from statsmodels.nonparametric.kde import KDEUnivariate\n",
    "from statsmodels.nonparametric.kernel_density import KDEMultivariate\n",
    "\n",
    "def kde_scipy(x, x_grid, bandwidth=0.2, **kwargs):\n",
    "    \"\"\"Kernel Density Estimation with Scipy\"\"\"\n",
    "    # Note that scipy weights its bandwidth by the covariance of the\n",
    "    # input data.  To make the results comparable to the other methods,\n",
    "    # we divide the bandwidth by the sample standard deviation here.\n",
    "    kde = gaussian_kde(x, bw_method=bandwidth / x.std(ddof=1), **kwargs)\n",
    "    return kde.evaluate(x_grid)\n",
    "\n",
    "\n",
    "def kde_statsmodels_u(x, x_grid, bandwidth=0.2, **kwargs):\n",
    "    \"\"\"Univariate Kernel Density Estimation with Statsmodels\"\"\"\n",
    "    kde = KDEUnivariate(x)\n",
    "    kde.fit(bw=bandwidth, **kwargs)\n",
    "    return kde.evaluate(x_grid)\n",
    "    \n",
    "    \n",
    "def kde_statsmodels_m(x, x_grid, bandwidth=0.2, **kwargs):\n",
    "    \"\"\"Multivariate Kernel Density Estimation with Statsmodels\"\"\"\n",
    "    kde = KDEMultivariate(x, \n",
    "                          bw='cv_ml',  #bandwidth * np.ones_like(x),\n",
    "                          var_type='c', **kwargs)\n",
    "    return kde.pdf(x_grid)\n",
    "\n",
    "\n",
    "def kde_sklearn(x, x_grid, bandwidth=0.2, **kwargs):\n",
    "    \"\"\"Kernel Density Estimation with Scikit-learn\"\"\"\n",
    "    kde_skl = KernelDensity(bandwidth=bandwidth, **kwargs)\n",
    "    kde_skl.fit(x[:, np.newaxis])\n",
    "    # score_samples() returns the log-likelihood of the samples\n",
    "    log_pdf = kde_skl.score_samples(x_grid[:, np.newaxis])\n",
    "    return np.exp(log_pdf)\n",
    "\n",
    "\n",
    "kde_funcs = [kde_statsmodels_u, kde_statsmodels_m, kde_scipy, kde_sklearn]\n",
    "kde_funcnames = ['Statsmodels-U', 'Statsmodels-M', 'Scipy', 'Scikit-learn']\n",
    "\n",
    "print( \"Package Versions:\")\n",
    "import sklearn; print( \"  scikit-learn:\", sklearn.__version__)\n",
    "import scipy; print (\"  scipy:\", scipy.__version__)\n",
    "import statsmodels; print( \"  statsmodels:\", statsmodels.__version__)"
   ]
  },
  {
   "cell_type": "code",
   "execution_count": null,
   "metadata": {},
   "outputs": [],
   "source": [
    "data= df1\n",
    "sns.histplot(data=x, stat='density', kde=True, kde_kws={'bw_method': .2}, color='r', bins=9)"
   ]
  },
  {
   "cell_type": "code",
   "execution_count": null,
   "metadata": {},
   "outputs": [],
   "source": [
    "import numpy as np\n",
    "from scipy.stats import gaussian_kde\n",
    "import matplotlib.pyplot as plt\n",
    "\n",
    "# Generar datos de ejemplo\n",
    "datos = df1['PL']\n",
    "\n",
    "# Calcular la densidad de kernel\n",
    "densidad = gaussian_kde(datos)\n",
    "\n",
    "# Generar una serie de valores para evaluar la densidad de kernel\n",
    "x = np.linspace(datos.min(), datos.max(), 100)\n",
    "\n",
    "# Calcular los valores de la densidad de kernel en cada punto de x\n",
    "y = densidad(x)\n",
    "\n",
    "# Graficar la densidad de kernel\n",
    "plt.plot(x, y)\n",
    "plt.xlabel(\"Valores\")\n",
    "plt.ylabel(\"Densidad\")\n",
    "plt.title(\"Estimación de la densidad de kernel\")\n",
    "plt.show()\n"
   ]
  },
  {
   "cell_type": "code",
   "execution_count": null,
   "metadata": {},
   "outputs": [],
   "source": [
    "#importacion de datos\n",
    "df2 = pd.read_csv('Football Data from Transfermarkt/competitions.csv')\n",
    "df2.head()"
   ]
  },
  {
   "cell_type": "code",
   "execution_count": null,
   "metadata": {},
   "outputs": [],
   "source": [
    "continuous_dist = [dist_i for dist_i in dir(st) if isinstance(getattr(st, dist_i), getattr(st, 'rv_continuous'))] \n",
    "\n",
    "fig, ax = plt.subplots(1,1, figsize = (10,7))\n",
    "\n",
    "y, x, _ = ax.hist(df2[''], bins = 15, density = True)\n",
    "x = x[1:]\n",
    "i = 0\n",
    "\n",
    "error_df = pd.DataFrame(columns = ['distribución', 'error'])\n",
    "for d in continuous_dist[4:10]:\n",
    "    param = getattr(st,d).fit(hd)\n",
    "    y_hat = getattr(st, d).pdf(x, *param)\n",
    "    error = np.mean((y - y_hat)**2)\n",
    "    error_df.loc[i, 'distribución'] = d\n",
    "    error_df.loc[i, 'error'] = error\n",
    "    i+=1\n",
    "    ax.plot(x, y_hat,label = f'{d}')\n",
    "plt.legend()\n",
    "plt.show()\n",
    "\n",
    "error_df"
   ]
  },
  {
   "cell_type": "code",
   "execution_count": null,
   "metadata": {},
   "outputs": [],
   "source": [
    "#importacion de datos\n",
    "df3 = pd.read_csv('International football results from 1872 to 2022/results.csv')\n",
    "df3"
   ]
  },
  {
   "cell_type": "code",
   "execution_count": null,
   "metadata": {},
   "outputs": [],
   "source": [
    "import matplotlib.pyplot as plt\n",
    "\n",
    "# Generar datos de ejemplo\n",
    "home = df3['home_score']\n",
    "away = df3['away_score']\n",
    "\n",
    "# Crear la figura y los subgráficos\n",
    "fig, axs = plt.subplots(1, 2, figsize=(10, 5))\n",
    "\n",
    "# Graficar el histograma de los juegos de local en el primer subgráfico\n",
    "axs[0].hist(home, bins=range(1, 7), align='left', rwidth=0.8, color='blue')\n",
    "axs[0].set_xlabel('Cantidad de puntos')\n",
    "axs[0].set_ylabel('Frecuencia')\n",
    "axs[0].set_title('Juegos de local')\n",
    "\n",
    "# Graficar el histograma de los juegos de visitante en el segundo subgráfico\n",
    "axs[1].hist(away, bins=range(1, 7), align='left', rwidth=0.8, color='green')\n",
    "axs[1].set_xlabel('Cantidad de puntos')\n",
    "axs[1].set_ylabel('Frecuencia')\n",
    "axs[1].set_title('Juegos de visitante')\n",
    "\n",
    "# Mostrar la figura\n",
    "plt.show()\n"
   ]
  },
  {
   "cell_type": "code",
   "execution_count": null,
   "metadata": {},
   "outputs": [],
   "source": []
  },
  {
   "cell_type": "code",
   "execution_count": null,
   "metadata": {},
   "outputs": [],
   "source": [
    "continuous_dist = [dist_i for dist_i in dir(st) if isinstance(getattr(st, dist_i), getattr(st, 'rv_continuous'))] \n",
    "\n",
    "fig, ax = plt.subplots(1,1, figsize = (10,7))\n",
    "\n",
    "y, x, _ = ax.hist(df3['home_score'], bins = 15, density = True)\n",
    "x = x[1:]\n",
    "i = 0\n",
    "\n",
    "error_df = pd.DataFrame(columns = ['distribución', 'error'])\n",
    "for d in continuous_dist[4:10]:\n",
    "    param = getattr(st,d).fit(df3['home_score'])\n",
    "    y_hat = getattr(st, d).pdf(x, *param)\n",
    "    error = np.mean((y - y_hat)**2)\n",
    "    error_df.loc[i, 'distribución'] = d\n",
    "    error_df.loc[i, 'error'] = error\n",
    "    i+=1\n",
    "    ax.plot(x, y_hat,label = f'{d}')\n",
    "plt.legend()\n",
    "plt.show()\n",
    "\n",
    "error_df"
   ]
  },
  {
   "cell_type": "code",
   "execution_count": null,
   "metadata": {},
   "outputs": [],
   "source": [
    "continuous_dist = [dist_i for dist_i in dir(st) if isinstance(getattr(st, dist_i), getattr(st, 'rv_continuous'))] \n",
    "\n",
    "fig, ax = plt.subplots(1,1, figsize = (10,7))\n",
    "\n",
    "y, x, _ = ax.hist(df3['away_score'], bins = 15, density = True)\n",
    "x = x[1:]\n",
    "i = 0\n",
    "\n",
    "error_df = pd.DataFrame(columns = ['distribución', 'error'])\n",
    "for d in continuous_dist[4:10]:\n",
    "    param = getattr(st,d).fit(df3['away_score'])\n",
    "    y_hat = getattr(st, d).pdf(x, *param)\n",
    "    error = np.mean((y - y_hat)**2)\n",
    "    error_df.loc[i, 'distribución'] = d\n",
    "    error_df.loc[i, 'error'] = error\n",
    "    i+=1\n",
    "    ax.plot(x, y_hat,label = f'{d}')\n",
    "plt.legend()\n",
    "plt.show()\n",
    "\n",
    "error_df"
   ]
  },
  {
   "cell_type": "code",
   "execution_count": null,
   "metadata": {},
   "outputs": [],
   "source": [
    "divisiones = 15\n",
    "fig, ax = plt.subplots(2,1, figsize=(8,10))\n",
    "fig.tight_layout(pad=3.0)\n",
    "\n",
    "y, x, _ = ax[0].hist(home, divisiones, density=True, label='Histograma mediciones')\n",
    "\n",
    "dist = 'beta'\n",
    "params = getattr(st, dist).fit(home)\n",
    "y_hat = getattr(st, dist).pdf(x, *params)\n",
    "ax[0].plot(x, y_hat,'r--', label='Distribución ajustada')\n",
    "ax[0].set_ylabel('Probability')\n",
    "ax[0].grid()\n",
    "ax[0].legend()\n",
    "\n",
    "grap2 = st.probplot(home, dist=dist, sparams=getattr(st, dist).fit(x)[:-2], plot=ax[1], fit=True)\n",
    "ax[1].grid()\n",
    "ax[1].set_title('Usando paquete scipy')\n",
    "\n",
    "plt.legend()\n",
    "plt.show()"
   ]
  },
  {
   "cell_type": "markdown",
   "metadata": {},
   "source": [
    "# Conclusión"
   ]
  },
  {
   "cell_type": "markdown",
   "metadata": {},
   "source": [
    "Podemos concluir que los resultados de los partidos dependen poco de las condiciones climáticas del día del partido, pues en general la mayoría de equipos tiene el mismo porcentaje de victorias y derrotas en cualquier situación climática. La localía es un factor sumamente importante, pues si bien hay equipos que ganan la mayoría de sus partidos, sin importar la localía, incluso esos equipos cuentan con el mayor porcentaje de sus derrotas en estado visitante. Por último, una baja en la plantilla parece no ser tan importante en el resultado, pero nosotros creemos que eso se debe a que muchas de esas bajas no son jugadores clave del equipo y que si el jugador más importante de la plantilla se lesionara, los equipos seguramente se verían muy afectados en cuanto a sus resultados. "
   ]
  },
  {
   "cell_type": "markdown",
   "metadata": {},
   "source": [
    "___\n",
    "## 2. Especificaciones adicionales.\n",
    "En el grupo deben haber mínimo dos integrantes y máximo tres integrantes. Para propósitos logísticos nada más, por favor enumérense como *integrante 1*, *integrante 2* e *integrante 3*.\n",
    "\n",
    "### 2.1 Notebook de jupyter. \n",
    "> Los anteriores numerales los deben desarrollar todos en un notebook de jupyter y llamarlo de la siguiente manera `ProyectoModulo1_ApellidoN1_ApellidoN2_ApellidoN3`, donde `ApellidoNi` hace referencia al apellido materno y la inicial del primer nombre del integrante `i`.\n",
    "\n",
    "### 2.2 Proyecto en `GitHub`.\n",
    "> El integrante 1 deberá crear un proyecto en `GitHub` llamado **proyecto_modulo1**, donde tendrán todos los archivos relacionados con el proyecto. Los demás integrantes deben hacer un *fork* del proyecto, seguir el proyecto principal con `GitKraken` y hacer al menos dos contribuciones con *pull request* (como se hizo en la tarea). En el proyecto, deben incluir el repositorio remoto del integrante 1.\n",
    "\n",
    "### 2.3 Presentación.\n",
    "> Recuerden que la nota del proyecto es mitad el trabajo, y mitad la presentación. Deben hacer una presentación ya sea en power point o utlizando un notebook de python para presentar el trabajo durante un horario de clase que se será posteriomente definido. La presentación, además de llevar todos los componentes básicos descritos en el entregable, debe llevar una tabla de contenido.\n",
    "> - Presentación: 10 minutos.\n",
    "> - Seguir estas recomendaciones: https://es.slideshare.net/MeireComputacion/power-point-pautas-para-una-buen-trabajo"
   ]
  },
  {
   "cell_type": "markdown",
   "metadata": {},
   "source": [
    "<script>\n",
    "  $(document).ready(function(){\n",
    "    $('div.prompt').hide();\n",
    "    $('div.back-to-top').hide();\n",
    "    $('nav#menubar').hide();\n",
    "    $('.breadcrumb').hide();\n",
    "    $('.hidden-print').hide();\n",
    "  });\n",
    "</script>\n",
    "\n",
    "<footer id=\"attribution\" style=\"float:right; color:#808080; background:#fff;\">\n",
    "Created with Jupyter by Esteban Jiménez Rodríguez.\n",
    "</footer>"
   ]
  }
 ],
 "metadata": {
  "kernelspec": {
   "display_name": "Python 3",
   "language": "python",
   "name": "python3"
  },
  "language_info": {
   "codemirror_mode": {
    "name": "ipython",
    "version": 3
   },
   "file_extension": ".py",
   "mimetype": "text/x-python",
   "name": "python",
   "nbconvert_exporter": "python",
   "pygments_lexer": "ipython3",
   "version": "3.8.8"
  }
 },
 "nbformat": 4,
 "nbformat_minor": 2
}
